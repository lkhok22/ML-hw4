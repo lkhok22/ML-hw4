{
  "nbformat": 4,
  "nbformat_minor": 0,
  "metadata": {
    "colab": {
      "provenance": [],
      "authorship_tag": "ABX9TyMASKut76D746UY42YwdLmQ",
      "include_colab_link": true
    },
    "kernelspec": {
      "name": "python3",
      "display_name": "Python 3"
    },
    "language_info": {
      "name": "python"
    }
  },
  "cells": [
    {
      "cell_type": "markdown",
      "metadata": {
        "id": "view-in-github",
        "colab_type": "text"
      },
      "source": [
        "<a href=\"https://colab.research.google.com/github/lkhok22/ML-hw4/blob/main/face-recognition-DeepCNN.ipynb\" target=\"_parent\"><img src=\"https://colab.research.google.com/assets/colab-badge.svg\" alt=\"Open In Colab\"/></a>"
      ]
    },
    {
      "cell_type": "code",
      "source": [
        "from google.colab import drive\n",
        "drive.mount('/content/drive')"
      ],
      "metadata": {
        "colab": {
          "base_uri": "https://localhost:8080/"
        },
        "id": "ZTLjyoXKFfCC",
        "outputId": "b47ba232-b5e1-4c56-88a6-be5291ec57ac"
      },
      "execution_count": 7,
      "outputs": [
        {
          "output_type": "stream",
          "name": "stdout",
          "text": [
            "Drive already mounted at /content/drive; to attempt to forcibly remount, call drive.mount(\"/content/drive\", force_remount=True).\n"
          ]
        }
      ]
    },
    {
      "cell_type": "code",
      "source": [
        "! pip install kaggle"
      ],
      "metadata": {
        "colab": {
          "base_uri": "https://localhost:8080/"
        },
        "id": "gUR8UM0OF2XZ",
        "outputId": "0ec35a7a-9183-49e2-fc06-84dc16829eb5"
      },
      "execution_count": 8,
      "outputs": [
        {
          "output_type": "stream",
          "name": "stdout",
          "text": [
            "Requirement already satisfied: kaggle in /usr/local/lib/python3.11/dist-packages (1.7.4.5)\n",
            "Requirement already satisfied: bleach in /usr/local/lib/python3.11/dist-packages (from kaggle) (6.2.0)\n",
            "Requirement already satisfied: certifi>=14.05.14 in /usr/local/lib/python3.11/dist-packages (from kaggle) (2025.4.26)\n",
            "Requirement already satisfied: charset-normalizer in /usr/local/lib/python3.11/dist-packages (from kaggle) (3.4.2)\n",
            "Requirement already satisfied: idna in /usr/local/lib/python3.11/dist-packages (from kaggle) (3.10)\n",
            "Requirement already satisfied: protobuf in /usr/local/lib/python3.11/dist-packages (from kaggle) (5.29.5)\n",
            "Requirement already satisfied: python-dateutil>=2.5.3 in /usr/local/lib/python3.11/dist-packages (from kaggle) (2.9.0.post0)\n",
            "Requirement already satisfied: python-slugify in /usr/local/lib/python3.11/dist-packages (from kaggle) (8.0.4)\n",
            "Requirement already satisfied: requests in /usr/local/lib/python3.11/dist-packages (from kaggle) (2.32.3)\n",
            "Requirement already satisfied: setuptools>=21.0.0 in /usr/local/lib/python3.11/dist-packages (from kaggle) (75.2.0)\n",
            "Requirement already satisfied: six>=1.10 in /usr/local/lib/python3.11/dist-packages (from kaggle) (1.17.0)\n",
            "Requirement already satisfied: text-unidecode in /usr/local/lib/python3.11/dist-packages (from kaggle) (1.3)\n",
            "Requirement already satisfied: tqdm in /usr/local/lib/python3.11/dist-packages (from kaggle) (4.67.1)\n",
            "Requirement already satisfied: urllib3>=1.15.1 in /usr/local/lib/python3.11/dist-packages (from kaggle) (2.4.0)\n",
            "Requirement already satisfied: webencodings in /usr/local/lib/python3.11/dist-packages (from kaggle) (0.5.1)\n"
          ]
        }
      ]
    },
    {
      "cell_type": "code",
      "source": [
        "import wandb\n",
        "wandb.login()\n",
        "!mkdir -p ~/.kaggle\n",
        "!cp kaggle.json ~/.kaggle/\n",
        "!chmod 600 ~/.kaggle/kaggle.json\n",
        "!kaggle competitions download -c challenges-in-representation-learning-facial-expression-recognition-challenge\n",
        "!unzip -q challenges-in-representation-learning-facial-expression-recognition-challenge.zip"
      ],
      "metadata": {
        "colab": {
          "base_uri": "https://localhost:8080/"
        },
        "id": "tdiFW8PiG31j",
        "outputId": "992a853a-5ee8-46c1-d33f-57f14763c957"
      },
      "execution_count": 9,
      "outputs": [
        {
          "output_type": "stream",
          "name": "stdout",
          "text": [
            "Downloading challenges-in-representation-learning-facial-expression-recognition-challenge.zip to /content\n",
            " 99% 281M/285M [00:00<00:00, 381MB/s]\n",
            "100% 285M/285M [00:00<00:00, 418MB/s]\n"
          ]
        }
      ]
    },
    {
      "cell_type": "code",
      "source": [
        "import pandas as pd\n",
        "import numpy as np"
      ],
      "metadata": {
        "id": "ZWJcqABrIedr"
      },
      "execution_count": 10,
      "outputs": []
    },
    {
      "cell_type": "code",
      "source": [
        "train_df_t = pd.read_csv('train.csv')\n",
        "test_df_t = pd.read_csv('test.csv')"
      ],
      "metadata": {
        "id": "hlEG9y6iOCS2"
      },
      "execution_count": 11,
      "outputs": []
    },
    {
      "cell_type": "code",
      "source": [
        "import torch\n",
        "import torch.nn as nn\n",
        "import torch.optim as optim\n",
        "from torch.utils.data import DataLoader, Dataset\n",
        "from torchvision import transforms\n",
        "import matplotlib.pyplot as plt\n",
        "import random\n",
        "import os\n",
        "\n",
        "# Set seed for reproducibility\n",
        "def set_seed(seed=42):\n",
        "    random.seed(seed)\n",
        "    np.random.seed(seed)\n",
        "    torch.manual_seed(seed)\n",
        "    torch.cuda.manual_seed(seed)\n",
        "    torch.backends.cudnn.deterministic = True\n",
        "    torch.backends.cudnn.benchmark = False\n",
        "\n",
        "set_seed()\n"
      ],
      "metadata": {
        "id": "p3fnZB0ROdyt"
      },
      "execution_count": 12,
      "outputs": []
    },
    {
      "cell_type": "code",
      "source": [
        "from PIL import Image\n",
        "\n",
        "class FERDataset(Dataset):\n",
        "    def __init__(self, dataframe, transform=None):\n",
        "        self.dataframe = dataframe\n",
        "        self.transform = transform\n",
        "\n",
        "    def __len__(self):\n",
        "        return len(self.dataframe)\n",
        "\n",
        "    def __getitem__(self, idx):\n",
        "        row = self.dataframe.iloc[idx]\n",
        "        image = np.array(row['pixels'].split(), dtype=np.uint8).reshape(48, 48)\n",
        "        label = int(row['emotion']) if 'emotion' in row else -1\n",
        "        image = Image.fromarray(image)\n",
        "\n",
        "        if self.transform:\n",
        "            image = self.transform(image)\n",
        "\n",
        "        return image, label\n"
      ],
      "metadata": {
        "id": "ktgusqmJWhAi"
      },
      "execution_count": 13,
      "outputs": []
    },
    {
      "cell_type": "code",
      "source": [
        "from sklearn.model_selection import train_test_split\n",
        "\n",
        "# Split training data for validation\n",
        "train_df, val_df = train_test_split(train_df_t, test_size=0.1, stratify=train_df_t['emotion'], random_state=42)\n",
        "\n",
        "transform = transforms.Compose([\n",
        "    transforms.Grayscale(num_output_channels=1),\n",
        "    transforms.ToTensor(),\n",
        "    transforms.Normalize((0.5,), (0.5,))\n",
        "])\n",
        "\n",
        "train_dataset = FERDataset(train_df, transform=transform)\n",
        "val_dataset = FERDataset(val_df, transform=transform)\n",
        "\n",
        "# Use very small subset (e.g. 20 images) to test overfitting\n",
        "small_train_dataset = torch.utils.data.Subset(train_dataset, list(range(20)))\n",
        "\n",
        "small_loader = DataLoader(small_train_dataset, batch_size=4, shuffle=True)\n",
        "train_loader = DataLoader(train_dataset, batch_size=64, shuffle=True)\n",
        "val_loader = DataLoader(val_dataset, batch_size=64, shuffle=False)\n"
      ],
      "metadata": {
        "id": "eQQcOTeXWmcD"
      },
      "execution_count": 14,
      "outputs": []
    },
    {
      "cell_type": "code",
      "source": [
        "class DeepCNN(nn.Module):\n",
        "    def __init__(self):\n",
        "        super(DeepCNN, self).__init__()\n",
        "        self.features = nn.Sequential(\n",
        "            nn.Conv2d(1, 64, kernel_size=3, padding=1),\n",
        "            nn.BatchNorm2d(64),\n",
        "            nn.ReLU(),\n",
        "            nn.Conv2d(64, 64, kernel_size=3, padding=1),\n",
        "            nn.BatchNorm2d(64),\n",
        "            nn.ReLU(),\n",
        "            nn.MaxPool2d(2),     # 48 → 24\n",
        "            nn.Dropout(0.25),\n",
        "\n",
        "            nn.Conv2d(64, 128, kernel_size=3, padding=1),\n",
        "            nn.BatchNorm2d(128),\n",
        "            nn.ReLU(),\n",
        "            nn.Conv2d(128, 128, kernel_size=3, padding=1),\n",
        "            nn.BatchNorm2d(128),\n",
        "            nn.ReLU(),\n",
        "            nn.MaxPool2d(2),     # 24 → 12\n",
        "            nn.Dropout(0.25),\n",
        "\n",
        "            nn.Conv2d(128, 256, kernel_size=3, padding=1),\n",
        "            nn.BatchNorm2d(256),\n",
        "            nn.ReLU(),\n",
        "            nn.MaxPool2d(2),     # 12 → 6\n",
        "            nn.Dropout(0.25),\n",
        "        )\n",
        "\n",
        "        self.classifier = nn.Sequential(\n",
        "            nn.Flatten(),\n",
        "            nn.Linear(256 * 6 * 6, 512),\n",
        "            nn.ReLU(),\n",
        "            nn.Dropout(0.5),\n",
        "            nn.Linear(512, 7)\n",
        "        )\n",
        "\n",
        "    def forward(self, x):\n",
        "        x = self.features(x)\n",
        "        x = self.classifier(x)\n",
        "        return x\n"
      ],
      "metadata": {
        "id": "TpEP-Z0MWmlA"
      },
      "execution_count": 15,
      "outputs": []
    },
    {
      "cell_type": "code",
      "source": [
        "import torch\n",
        "\n",
        "# Use GPU if available\n",
        "device = torch.device(\"cuda\" if torch.cuda.is_available() else \"cpu\")\n",
        "print(f\"Using device: {device}\")\n"
      ],
      "metadata": {
        "colab": {
          "base_uri": "https://localhost:8080/"
        },
        "id": "xIcC1iOqRy1T",
        "outputId": "61749631-f20c-47e0-d644-0155f8f8a34f"
      },
      "execution_count": 16,
      "outputs": [
        {
          "output_type": "stream",
          "name": "stdout",
          "text": [
            "Using device: cuda\n"
          ]
        }
      ]
    },
    {
      "cell_type": "code",
      "source": [
        "def train_model(model, loader, optimizer, criterion, epochs=10, use_wandb=False):\n",
        "    model.to(device)  # ⬅️ Move model to GPU\n",
        "    for epoch in range(epochs):\n",
        "        model.train()\n",
        "        total_loss = 0\n",
        "        correct = 0\n",
        "        total = 0\n",
        "        for images, labels in loader:\n",
        "            images, labels = images.to(device), labels.to(device)  # ⬅️ Move data to GPU\n",
        "\n",
        "            optimizer.zero_grad()\n",
        "            outputs = model(images)\n",
        "            loss = criterion(outputs, labels)\n",
        "            loss.backward()\n",
        "            optimizer.step()\n",
        "\n",
        "            total_loss += loss.item()\n",
        "            _, predicted = outputs.max(1)\n",
        "            correct += predicted.eq(labels).sum().item()\n",
        "            total += labels.size(0)\n",
        "\n",
        "        acc = correct / total\n",
        "        avg_loss = total_loss / len(loader)\n",
        "\n",
        "        print(f\"Epoch {epoch+1}/{epochs} | Loss: {avg_loss:.4f} | Accuracy: {acc:.4f}\")\n",
        "\n",
        "        if use_wandb:\n",
        "            wandb.log({\"loss\": avg_loss, \"accuracy\": acc})\n"
      ],
      "metadata": {
        "id": "6JKm9DbnWpqf"
      },
      "execution_count": 17,
      "outputs": []
    },
    {
      "cell_type": "code",
      "source": [
        "wandb.init(project=\"fer-overfit-test\", name=\"DeepCNN-overfit-small\")\n",
        "\n",
        "model = DeepCNN()\n",
        "criterion = nn.CrossEntropyLoss()\n",
        "optimizer = optim.Adam(model.parameters(), lr=0.001)\n",
        "\n",
        "train_model(model, small_loader, optimizer, criterion, epochs=20, use_wandb=True)\n",
        "\n",
        "wandb.finish()\n"
      ],
      "metadata": {
        "colab": {
          "base_uri": "https://localhost:8080/",
          "height": 879
        },
        "id": "F7dP4AuNWp9v",
        "outputId": "2b27231c-08c1-4a40-cacd-d880bd8e725d"
      },
      "execution_count": 19,
      "outputs": [
        {
          "output_type": "display_data",
          "data": {
            "text/plain": [
              "<IPython.core.display.HTML object>"
            ],
            "text/html": [
              "Finishing previous runs because reinit is set to 'default'."
            ]
          },
          "metadata": {}
        },
        {
          "output_type": "display_data",
          "data": {
            "text/plain": [
              "<IPython.core.display.HTML object>"
            ],
            "text/html": []
          },
          "metadata": {}
        },
        {
          "output_type": "display_data",
          "data": {
            "text/plain": [
              "<IPython.core.display.HTML object>"
            ],
            "text/html": [
              " View run <strong style=\"color:#cdcd00\">BetterCNN-overfit-small</strong> at: <a href='https://wandb.ai/lkhok22-free-university-of-tbilisi-/fer-overfit-test/runs/520swgio' target=\"_blank\">https://wandb.ai/lkhok22-free-university-of-tbilisi-/fer-overfit-test/runs/520swgio</a><br> View project at: <a href='https://wandb.ai/lkhok22-free-university-of-tbilisi-/fer-overfit-test' target=\"_blank\">https://wandb.ai/lkhok22-free-university-of-tbilisi-/fer-overfit-test</a><br>Synced 5 W&B file(s), 0 media file(s), 0 artifact file(s) and 0 other file(s)"
            ]
          },
          "metadata": {}
        },
        {
          "output_type": "display_data",
          "data": {
            "text/plain": [
              "<IPython.core.display.HTML object>"
            ],
            "text/html": [
              "Find logs at: <code>./wandb/run-20250607_122726-520swgio/logs</code>"
            ]
          },
          "metadata": {}
        },
        {
          "output_type": "display_data",
          "data": {
            "text/plain": [
              "<IPython.core.display.HTML object>"
            ],
            "text/html": [
              "Tracking run with wandb version 0.19.11"
            ]
          },
          "metadata": {}
        },
        {
          "output_type": "display_data",
          "data": {
            "text/plain": [
              "<IPython.core.display.HTML object>"
            ],
            "text/html": [
              "Run data is saved locally in <code>/content/wandb/run-20250607_122808-p3gtv0vj</code>"
            ]
          },
          "metadata": {}
        },
        {
          "output_type": "display_data",
          "data": {
            "text/plain": [
              "<IPython.core.display.HTML object>"
            ],
            "text/html": [
              "Syncing run <strong><a href='https://wandb.ai/lkhok22-free-university-of-tbilisi-/fer-overfit-test/runs/p3gtv0vj' target=\"_blank\">DeepCNN-overfit-small</a></strong> to <a href='https://wandb.ai/lkhok22-free-university-of-tbilisi-/fer-overfit-test' target=\"_blank\">Weights & Biases</a> (<a href='https://wandb.me/developer-guide' target=\"_blank\">docs</a>)<br>"
            ]
          },
          "metadata": {}
        },
        {
          "output_type": "display_data",
          "data": {
            "text/plain": [
              "<IPython.core.display.HTML object>"
            ],
            "text/html": [
              " View project at <a href='https://wandb.ai/lkhok22-free-university-of-tbilisi-/fer-overfit-test' target=\"_blank\">https://wandb.ai/lkhok22-free-university-of-tbilisi-/fer-overfit-test</a>"
            ]
          },
          "metadata": {}
        },
        {
          "output_type": "display_data",
          "data": {
            "text/plain": [
              "<IPython.core.display.HTML object>"
            ],
            "text/html": [
              " View run at <a href='https://wandb.ai/lkhok22-free-university-of-tbilisi-/fer-overfit-test/runs/p3gtv0vj' target=\"_blank\">https://wandb.ai/lkhok22-free-university-of-tbilisi-/fer-overfit-test/runs/p3gtv0vj</a>"
            ]
          },
          "metadata": {}
        },
        {
          "output_type": "stream",
          "name": "stdout",
          "text": [
            "Epoch 1/20 | Loss: 6.1907 | Accuracy: 0.2500\n",
            "Epoch 2/20 | Loss: 7.3802 | Accuracy: 0.2500\n",
            "Epoch 3/20 | Loss: 7.2849 | Accuracy: 0.3500\n",
            "Epoch 4/20 | Loss: 4.5778 | Accuracy: 0.2000\n",
            "Epoch 5/20 | Loss: 4.2146 | Accuracy: 0.4500\n",
            "Epoch 6/20 | Loss: 3.4279 | Accuracy: 0.4500\n",
            "Epoch 7/20 | Loss: 1.5318 | Accuracy: 0.6000\n",
            "Epoch 8/20 | Loss: 1.9389 | Accuracy: 0.5000\n",
            "Epoch 9/20 | Loss: 0.7453 | Accuracy: 0.8000\n",
            "Epoch 10/20 | Loss: 1.1070 | Accuracy: 0.6500\n",
            "Epoch 11/20 | Loss: 1.1767 | Accuracy: 0.5500\n",
            "Epoch 12/20 | Loss: 1.0178 | Accuracy: 0.6000\n",
            "Epoch 13/20 | Loss: 0.6838 | Accuracy: 0.7500\n",
            "Epoch 14/20 | Loss: 0.6681 | Accuracy: 0.7000\n",
            "Epoch 15/20 | Loss: 1.0660 | Accuracy: 0.7000\n",
            "Epoch 16/20 | Loss: 0.2618 | Accuracy: 0.9500\n",
            "Epoch 17/20 | Loss: 1.7605 | Accuracy: 0.7500\n",
            "Epoch 18/20 | Loss: 0.5499 | Accuracy: 0.8000\n",
            "Epoch 19/20 | Loss: 0.5572 | Accuracy: 0.7500\n",
            "Epoch 20/20 | Loss: 0.3882 | Accuracy: 0.8500\n"
          ]
        },
        {
          "output_type": "display_data",
          "data": {
            "text/plain": [
              "<IPython.core.display.HTML object>"
            ],
            "text/html": []
          },
          "metadata": {}
        },
        {
          "output_type": "display_data",
          "data": {
            "text/plain": [
              "<IPython.core.display.HTML object>"
            ],
            "text/html": [
              "<br>    <style><br>        .wandb-row {<br>            display: flex;<br>            flex-direction: row;<br>            flex-wrap: wrap;<br>            justify-content: flex-start;<br>            width: 100%;<br>        }<br>        .wandb-col {<br>            display: flex;<br>            flex-direction: column;<br>            flex-basis: 100%;<br>            flex: 1;<br>            padding: 10px;<br>        }<br>    </style><br><div class=\"wandb-row\"><div class=\"wandb-col\"><h3>Run history:</h3><br/><table class=\"wandb\"><tr><td>accuracy</td><td>▁▁▂▁▃▃▅▄▇▅▄▅▆▆▆█▆▇▆▇</td></tr><tr><td>loss</td><td>▇██▅▅▄▂▃▁▂▂▂▁▁▂▁▂▁▁▁</td></tr></table><br/></div><div class=\"wandb-col\"><h3>Run summary:</h3><br/><table class=\"wandb\"><tr><td>accuracy</td><td>0.85</td></tr><tr><td>loss</td><td>0.38819</td></tr></table><br/></div></div>"
            ]
          },
          "metadata": {}
        },
        {
          "output_type": "display_data",
          "data": {
            "text/plain": [
              "<IPython.core.display.HTML object>"
            ],
            "text/html": [
              " View run <strong style=\"color:#cdcd00\">DeepCNN-overfit-small</strong> at: <a href='https://wandb.ai/lkhok22-free-university-of-tbilisi-/fer-overfit-test/runs/p3gtv0vj' target=\"_blank\">https://wandb.ai/lkhok22-free-university-of-tbilisi-/fer-overfit-test/runs/p3gtv0vj</a><br> View project at: <a href='https://wandb.ai/lkhok22-free-university-of-tbilisi-/fer-overfit-test' target=\"_blank\">https://wandb.ai/lkhok22-free-university-of-tbilisi-/fer-overfit-test</a><br>Synced 5 W&B file(s), 0 media file(s), 0 artifact file(s) and 0 other file(s)"
            ]
          },
          "metadata": {}
        },
        {
          "output_type": "display_data",
          "data": {
            "text/plain": [
              "<IPython.core.display.HTML object>"
            ],
            "text/html": [
              "Find logs at: <code>./wandb/run-20250607_122808-p3gtv0vj/logs</code>"
            ]
          },
          "metadata": {}
        }
      ]
    },
    {
      "cell_type": "code",
      "source": [
        "wandb.init(project=\"fer-full-training\", name=\"DeepCNN-full\")\n",
        "\n",
        "model = DeepCNN()\n",
        "optimizer = optim.Adam(model.parameters(), lr=0.001)\n",
        "\n",
        "train_model(model, train_loader, optimizer, criterion, epochs=20, use_wandb=True)\n",
        "\n",
        "wandb.finish()\n"
      ],
      "metadata": {
        "colab": {
          "base_uri": "https://localhost:8080/",
          "height": 793
        },
        "id": "6K0SldTHWvjQ",
        "outputId": "11ae8a4f-f9f3-4aeb-c1fb-44c26716c93b"
      },
      "execution_count": 20,
      "outputs": [
        {
          "output_type": "display_data",
          "data": {
            "text/plain": [
              "<IPython.core.display.HTML object>"
            ],
            "text/html": [
              "Tracking run with wandb version 0.19.11"
            ]
          },
          "metadata": {}
        },
        {
          "output_type": "display_data",
          "data": {
            "text/plain": [
              "<IPython.core.display.HTML object>"
            ],
            "text/html": [
              "Run data is saved locally in <code>/content/wandb/run-20250607_122823-xo4miu01</code>"
            ]
          },
          "metadata": {}
        },
        {
          "output_type": "display_data",
          "data": {
            "text/plain": [
              "<IPython.core.display.HTML object>"
            ],
            "text/html": [
              "Syncing run <strong><a href='https://wandb.ai/lkhok22-free-university-of-tbilisi-/fer-full-training/runs/xo4miu01' target=\"_blank\">DeepCNN-full</a></strong> to <a href='https://wandb.ai/lkhok22-free-university-of-tbilisi-/fer-full-training' target=\"_blank\">Weights & Biases</a> (<a href='https://wandb.me/developer-guide' target=\"_blank\">docs</a>)<br>"
            ]
          },
          "metadata": {}
        },
        {
          "output_type": "display_data",
          "data": {
            "text/plain": [
              "<IPython.core.display.HTML object>"
            ],
            "text/html": [
              " View project at <a href='https://wandb.ai/lkhok22-free-university-of-tbilisi-/fer-full-training' target=\"_blank\">https://wandb.ai/lkhok22-free-university-of-tbilisi-/fer-full-training</a>"
            ]
          },
          "metadata": {}
        },
        {
          "output_type": "display_data",
          "data": {
            "text/plain": [
              "<IPython.core.display.HTML object>"
            ],
            "text/html": [
              " View run at <a href='https://wandb.ai/lkhok22-free-university-of-tbilisi-/fer-full-training/runs/xo4miu01' target=\"_blank\">https://wandb.ai/lkhok22-free-university-of-tbilisi-/fer-full-training/runs/xo4miu01</a>"
            ]
          },
          "metadata": {}
        },
        {
          "output_type": "stream",
          "name": "stdout",
          "text": [
            "Epoch 1/20 | Loss: 1.9229 | Accuracy: 0.2509\n",
            "Epoch 2/20 | Loss: 1.6949 | Accuracy: 0.3150\n",
            "Epoch 3/20 | Loss: 1.5673 | Accuracy: 0.3870\n",
            "Epoch 4/20 | Loss: 1.4793 | Accuracy: 0.4136\n",
            "Epoch 5/20 | Loss: 1.4325 | Accuracy: 0.4302\n",
            "Epoch 6/20 | Loss: 1.4019 | Accuracy: 0.4423\n",
            "Epoch 7/20 | Loss: 1.3678 | Accuracy: 0.4588\n",
            "Epoch 8/20 | Loss: 1.3338 | Accuracy: 0.4694\n",
            "Epoch 9/20 | Loss: 1.3159 | Accuracy: 0.4811\n",
            "Epoch 10/20 | Loss: 1.2840 | Accuracy: 0.4926\n",
            "Epoch 11/20 | Loss: 1.2636 | Accuracy: 0.5023\n",
            "Epoch 12/20 | Loss: 1.2390 | Accuracy: 0.5154\n",
            "Epoch 13/20 | Loss: 1.2107 | Accuracy: 0.5245\n",
            "Epoch 14/20 | Loss: 1.1988 | Accuracy: 0.5288\n",
            "Epoch 15/20 | Loss: 1.1828 | Accuracy: 0.5356\n",
            "Epoch 16/20 | Loss: 1.1602 | Accuracy: 0.5430\n",
            "Epoch 17/20 | Loss: 1.1351 | Accuracy: 0.5595\n",
            "Epoch 18/20 | Loss: 1.1178 | Accuracy: 0.5616\n",
            "Epoch 19/20 | Loss: 1.1009 | Accuracy: 0.5672\n",
            "Epoch 20/20 | Loss: 1.0826 | Accuracy: 0.5768\n"
          ]
        },
        {
          "output_type": "display_data",
          "data": {
            "text/plain": [
              "<IPython.core.display.HTML object>"
            ],
            "text/html": []
          },
          "metadata": {}
        },
        {
          "output_type": "display_data",
          "data": {
            "text/plain": [
              "<IPython.core.display.HTML object>"
            ],
            "text/html": [
              "<br>    <style><br>        .wandb-row {<br>            display: flex;<br>            flex-direction: row;<br>            flex-wrap: wrap;<br>            justify-content: flex-start;<br>            width: 100%;<br>        }<br>        .wandb-col {<br>            display: flex;<br>            flex-direction: column;<br>            flex-basis: 100%;<br>            flex: 1;<br>            padding: 10px;<br>        }<br>    </style><br><div class=\"wandb-row\"><div class=\"wandb-col\"><h3>Run history:</h3><br/><table class=\"wandb\"><tr><td>accuracy</td><td>▁▂▄▄▅▅▅▆▆▆▆▇▇▇▇▇████</td></tr><tr><td>loss</td><td>█▆▅▄▄▄▃▃▃▃▃▂▂▂▂▂▁▁▁▁</td></tr></table><br/></div><div class=\"wandb-col\"><h3>Run summary:</h3><br/><table class=\"wandb\"><tr><td>accuracy</td><td>0.57679</td></tr><tr><td>loss</td><td>1.08259</td></tr></table><br/></div></div>"
            ]
          },
          "metadata": {}
        },
        {
          "output_type": "display_data",
          "data": {
            "text/plain": [
              "<IPython.core.display.HTML object>"
            ],
            "text/html": [
              " View run <strong style=\"color:#cdcd00\">DeepCNN-full</strong> at: <a href='https://wandb.ai/lkhok22-free-university-of-tbilisi-/fer-full-training/runs/xo4miu01' target=\"_blank\">https://wandb.ai/lkhok22-free-university-of-tbilisi-/fer-full-training/runs/xo4miu01</a><br> View project at: <a href='https://wandb.ai/lkhok22-free-university-of-tbilisi-/fer-full-training' target=\"_blank\">https://wandb.ai/lkhok22-free-university-of-tbilisi-/fer-full-training</a><br>Synced 5 W&B file(s), 0 media file(s), 0 artifact file(s) and 0 other file(s)"
            ]
          },
          "metadata": {}
        },
        {
          "output_type": "display_data",
          "data": {
            "text/plain": [
              "<IPython.core.display.HTML object>"
            ],
            "text/html": [
              "Find logs at: <code>./wandb/run-20250607_122823-xo4miu01/logs</code>"
            ]
          },
          "metadata": {}
        }
      ]
    },
    {
      "cell_type": "code",
      "source": [
        "def evaluate(model, loader):\n",
        "    model.eval()\n",
        "    correct = 0\n",
        "    total = 0\n",
        "    with torch.no_grad():\n",
        "        for images, labels in loader:\n",
        "            images, labels = images.to(device), labels.to(device)\n",
        "            outputs = model(images)\n",
        "            _, predicted = torch.max(outputs, 1)\n",
        "            total += labels.size(0)\n",
        "            correct += (predicted == labels).sum().item()\n",
        "\n",
        "    print(f\"Validation Accuracy: {correct / total:.4f}\")\n"
      ],
      "metadata": {
        "id": "Okk_vgEGW2DN"
      },
      "execution_count": 21,
      "outputs": []
    },
    {
      "cell_type": "code",
      "source": [
        "evaluate(model, val_loader)"
      ],
      "metadata": {
        "colab": {
          "base_uri": "https://localhost:8080/"
        },
        "id": "StjxQO54W1_0",
        "outputId": "4f4802f1-1ba6-494c-9940-3079a4dfb635"
      },
      "execution_count": 22,
      "outputs": [
        {
          "output_type": "stream",
          "name": "stdout",
          "text": [
            "Validation Accuracy: 0.5998\n"
          ]
        }
      ]
    },
    {
      "cell_type": "code",
      "source": [],
      "metadata": {
        "id": "_6gyy0vYXKzM"
      },
      "execution_count": null,
      "outputs": []
    }
  ]
}